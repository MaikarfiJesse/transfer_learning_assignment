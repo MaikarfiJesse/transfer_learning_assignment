{
  "cells": [
    {
      "cell_type": "markdown",
      "metadata": {
        "id": "view-in-github",
        "colab_type": "text"
      },
      "source": [
        "<a href=\"https://colab.research.google.com/github/MaikarfiJesse/transfer_learning_assignment/blob/main/Transfer_model_Dates_classification.ipynb\" target=\"_parent\"><img src=\"https://colab.research.google.com/assets/colab-badge.svg\" alt=\"Open In Colab\"/></a>"
      ]
    },
    {
      "cell_type": "markdown",
      "metadata": {
        "id": "TyYx40NfyFAP"
      },
      "source": [
        "# Dates fruits Classification\n",
        "\n",
        "This project is aimed to use pretrained models with a new dataset to classify different types of dates fruits from their images."
      ]
    },
    {
      "cell_type": "markdown",
      "metadata": {
        "id": "P0uMj4jYyTn9"
      },
      "source": [
        "##Import libraries"
      ]
    },
    {
      "cell_type": "code",
      "execution_count": 1,
      "metadata": {
        "id": "K8vqt7mt05Fs"
      },
      "outputs": [],
      "source": [
        "\n",
        "import tensorflow as tf\n",
        "from tensorflow import keras\n",
        "from tensorflow.keras.models import Sequential\n",
        "from tensorflow.keras.layers import Dense, Dropout, Activation, Flatten\n",
        "from tensorflow.keras.utils import image_dataset_from_directory\n",
        "from tensorflow.keras import layers\n",
        "from tensorflow.keras.preprocessing.image import ImageDataGenerator\n",
        "import tensorflow.keras as keras\n",
        "from tensorflow.keras import regularizers\n",
        "from tensorflow.keras.initializers import GlorotNormal\n",
        "from tensorflow.keras.metrics import TruePositives, FalsePositives, TrueNegatives, FalseNegatives, BinaryAccuracy, Precision, Recall, AUC\n",
        "import numpy as np\n",
        "from sklearn.metrics import classification_report, confusion_matrix\n",
        "import matplotlib.pyplot as plt\n",
        "import pandas as pd\n",
        "import os\n",
        "import time\n",
        "import cv2\n",
        "import pathlib\n",
        "import matplotlib as mpl"
      ]
    },
    {
      "cell_type": "markdown",
      "metadata": {
        "id": "HMZqt94Jy6k9"
      },
      "source": [
        "##INSTALL DATASET\n"
      ]
    },
    {
      "cell_type": "code",
      "execution_count": 2,
      "metadata": {
        "id": "_369igJYB9fi"
      },
      "outputs": [],
      "source": [
        "img_width = 448\n",
        "img_height = 448\n",
        "batch_size = 64\n",
        "color = 3\n",
        "dataset_folder = \"date-fruit-image-dataset-in-controlled-environment\"\n",
        "dataset_url = 'https://www.kaggle.com/wadhasnalhamdan/date-fruit-image-dataset-in-controlled-environment'\n",
        "classes_name = ['Ajwa', 'Galaxy', 'Medjool', 'Meneifi', 'Nabtat Ali', 'Rutab', 'Shaishe', 'Sokari', 'Sugaey']\n"
      ]
    },
    {
      "cell_type": "code",
      "execution_count": 3,
      "metadata": {
        "colab": {
          "base_uri": "https://localhost:8080/"
        },
        "id": "KNyft1hvCCny",
        "outputId": "553079e3-1534-440a-d3ac-90beceaa2e26"
      },
      "outputs": [
        {
          "output_type": "stream",
          "name": "stdout",
          "text": [
            "Collecting opendatasets\n",
            "  Downloading opendatasets-0.1.22-py3-none-any.whl (15 kB)\n",
            "Requirement already satisfied: tqdm in /usr/local/lib/python3.10/dist-packages (from opendatasets) (4.66.4)\n",
            "Requirement already satisfied: kaggle in /usr/local/lib/python3.10/dist-packages (from opendatasets) (1.6.14)\n",
            "Requirement already satisfied: click in /usr/local/lib/python3.10/dist-packages (from opendatasets) (8.1.7)\n",
            "Requirement already satisfied: six>=1.10 in /usr/local/lib/python3.10/dist-packages (from kaggle->opendatasets) (1.16.0)\n",
            "Requirement already satisfied: certifi>=2023.7.22 in /usr/local/lib/python3.10/dist-packages (from kaggle->opendatasets) (2024.2.2)\n",
            "Requirement already satisfied: python-dateutil in /usr/local/lib/python3.10/dist-packages (from kaggle->opendatasets) (2.8.2)\n",
            "Requirement already satisfied: requests in /usr/local/lib/python3.10/dist-packages (from kaggle->opendatasets) (2.31.0)\n",
            "Requirement already satisfied: python-slugify in /usr/local/lib/python3.10/dist-packages (from kaggle->opendatasets) (8.0.4)\n",
            "Requirement already satisfied: urllib3 in /usr/local/lib/python3.10/dist-packages (from kaggle->opendatasets) (2.0.7)\n",
            "Requirement already satisfied: bleach in /usr/local/lib/python3.10/dist-packages (from kaggle->opendatasets) (6.1.0)\n",
            "Requirement already satisfied: webencodings in /usr/local/lib/python3.10/dist-packages (from bleach->kaggle->opendatasets) (0.5.1)\n",
            "Requirement already satisfied: text-unidecode>=1.3 in /usr/local/lib/python3.10/dist-packages (from python-slugify->kaggle->opendatasets) (1.3)\n",
            "Requirement already satisfied: charset-normalizer<4,>=2 in /usr/local/lib/python3.10/dist-packages (from requests->kaggle->opendatasets) (3.3.2)\n",
            "Requirement already satisfied: idna<4,>=2.5 in /usr/local/lib/python3.10/dist-packages (from requests->kaggle->opendatasets) (3.7)\n",
            "Installing collected packages: opendatasets\n",
            "Successfully installed opendatasets-0.1.22\n",
            "Please provide your Kaggle credentials to download this dataset. Learn more: http://bit.ly/kaggle-creds\n",
            "Your Kaggle username: jessemaikarfi\n",
            "Your Kaggle Key: ··········\n",
            "Dataset URL: https://www.kaggle.com/datasets/wadhasnalhamdan/date-fruit-image-dataset-in-controlled-environment\n",
            "Downloading date-fruit-image-dataset-in-controlled-environment.zip to ./date-fruit-image-dataset-in-controlled-environment\n"
          ]
        },
        {
          "output_type": "stream",
          "name": "stderr",
          "text": [
            "100%|██████████| 3.11G/3.11G [00:34<00:00, 97.7MB/s]\n"
          ]
        },
        {
          "output_type": "stream",
          "name": "stdout",
          "text": [
            "\n"
          ]
        }
      ],
      "source": [
        "!pip install opendatasets\n",
        "\n",
        "import opendatasets as od\n",
        "od.download(dataset_url)"
      ]
    },
    {
      "cell_type": "markdown",
      "metadata": {
        "id": "qlvV9YjR2oqd"
      },
      "source": [
        "## Read the dataset"
      ]
    },
    {
      "cell_type": "code",
      "execution_count": 4,
      "metadata": {
        "id": "794zNCY4CSfg"
      },
      "outputs": [],
      "source": [
        "dataset = pathlib.Path(dataset_folder)\n",
        "\n",
        "def directory_dataset(dataset):\n",
        "  folders = []\n",
        "  for i in dataset.iterdir():\n",
        "    if i.is_dir():\n",
        "      folders.append(i)\n",
        "  return folders\n",
        "\n",
        "folders = directory_dataset(dataset)"
      ]
    },
    {
      "cell_type": "markdown",
      "metadata": {
        "id": "ai6Xu6cD2yOC"
      },
      "source": [
        "### Total number of Images"
      ]
    },
    {
      "cell_type": "code",
      "execution_count": 5,
      "metadata": {
        "colab": {
          "base_uri": "https://localhost:8080/"
        },
        "id": "fYZvwILSB9iP",
        "outputId": "d4c274e0-69b3-4a9d-b6d8-1e08a2c174a2"
      },
      "outputs": [
        {
          "output_type": "stream",
          "name": "stdout",
          "text": [
            "number of all images in dataset: 1658\n"
          ]
        }
      ],
      "source": [
        "def number_of_images_in_dataset(dataset):\n",
        "  images = list(dataset.glob(\"*/*.*\"))\n",
        "  return len(images)\n",
        "print(\"number of all images in dataset: {}\".format(number_of_images_in_dataset(dataset)))"
      ]
    },
    {
      "cell_type": "markdown",
      "metadata": {
        "id": "T0S2rZr72t09"
      },
      "source": [
        "###number of Images per folder"
      ]
    },
    {
      "cell_type": "code",
      "execution_count": 6,
      "metadata": {
        "colab": {
          "base_uri": "https://localhost:8080/"
        },
        "id": "Qp0gsWl8CiCK",
        "outputId": "e6b33908-d511-4c80-a047-4fc86683f8d9"
      },
      "outputs": [
        {
          "output_type": "stream",
          "name": "stdout",
          "text": [
            "date-fruit-image-dataset-in-controlled-environment/Galaxy: 190\n",
            "date-fruit-image-dataset-in-controlled-environment/Rutab: 146\n",
            "date-fruit-image-dataset-in-controlled-environment/Meneifi: 232\n",
            "date-fruit-image-dataset-in-controlled-environment/Nabtat Ali: 177\n",
            "date-fruit-image-dataset-in-controlled-environment/Medjool: 135\n",
            "date-fruit-image-dataset-in-controlled-environment/Shaishe: 171\n",
            "date-fruit-image-dataset-in-controlled-environment/Sokari: 264\n",
            "date-fruit-image-dataset-in-controlled-environment/Sugaey: 168\n",
            "date-fruit-image-dataset-in-controlled-environment/Ajwa: 175\n"
          ]
        }
      ],
      "source": [
        "def number_of_images_in_each_folder(folders):\n",
        "  for i in folders:\n",
        "    str_ = \"{}: {}\".format(i, len(list(pathlib.Path(i).glob(\"*.*\"))))\n",
        "    print(str_)\n",
        "\n",
        "number_of_images_in_each_folder(folders)"
      ]
    },
    {
      "cell_type": "markdown",
      "metadata": {
        "id": "3c_Ru24C3Hmz"
      },
      "source": [
        "###Blurring images"
      ]
    },
    {
      "cell_type": "code",
      "execution_count": 7,
      "metadata": {
        "id": "yu7KSoAgCiE-"
      },
      "outputs": [],
      "source": [
        "def Blurring(image):\n",
        "  image = cv2.medianBlur(image,5)\n",
        "  return image\n",
        "\n",
        "def image_generator(dataset_folder):\n",
        "  datagen = ImageDataGenerator( rescale=1/255, validation_split=0.1,vertical_flip=True ,horizontal_flip=True,width_shift_range=0.2,height_shift_range=0.2,\n",
        "                               rotation_range = 5, shear_range = 0.02,zoom_range = 0.02, preprocessing_function = Blurring)\n",
        "\n",
        "  train_generator = datagen.flow_from_directory(\n",
        "      dataset_folder,\n",
        "      target_size=(img_height, img_width),\n",
        "      batch_size=batch_size,\n",
        "      class_mode='categorical',\n",
        "      shuffle=True,\n",
        "      subset='training')\n",
        "\n",
        "  validation_generator = datagen.flow_from_directory(\n",
        "      dataset_folder,\n",
        "      target_size=(img_height, img_width),\n",
        "      batch_size= batch_size,\n",
        "      shuffle=False,\n",
        "      class_mode='categorical',\n",
        "      subset='validation')\n",
        "\n",
        "  return [train_generator, validation_generator]"
      ]
    },
    {
      "cell_type": "code",
      "execution_count": 8,
      "metadata": {
        "colab": {
          "base_uri": "https://localhost:8080/"
        },
        "id": "Qk--6CBqC6c-",
        "outputId": "b1a7f36a-babe-44d9-f1ce-f87e455db62d"
      },
      "outputs": [
        {
          "output_type": "stream",
          "name": "stdout",
          "text": [
            "Found 1496 images belonging to 9 classes.\n",
            "Found 162 images belonging to 9 classes.\n"
          ]
        }
      ],
      "source": [
        "\n",
        "[training_dataset, validation_dataset] = image_generator(dataset)"
      ]
    },
    {
      "cell_type": "markdown",
      "metadata": {
        "id": "38k6G8Fu389K"
      },
      "source": [
        "##Pretrained Models"
      ]
    },
    {
      "cell_type": "code",
      "execution_count": 9,
      "metadata": {
        "id": "1P9-sSp6I55u"
      },
      "outputs": [],
      "source": [
        "from tensorflow.keras.applications import VGG16, MobileNetV2, VGG19\n",
        "from tensorflow.keras.models import Model\n"
      ]
    },
    {
      "cell_type": "markdown",
      "metadata": {
        "id": "YAlybpnG4FL0"
      },
      "source": [
        "###Load pre-trained models\n"
      ]
    },
    {
      "cell_type": "code",
      "execution_count": 10,
      "metadata": {
        "colab": {
          "base_uri": "https://localhost:8080/"
        },
        "id": "w498nNWKC6gF",
        "outputId": "19070106-dfd9-41d4-e58b-1de85de4f48e"
      },
      "outputs": [
        {
          "output_type": "stream",
          "name": "stdout",
          "text": [
            "Downloading data from https://storage.googleapis.com/tensorflow/keras-applications/vgg16/vgg16_weights_tf_dim_ordering_tf_kernels_notop.h5\n",
            "58889256/58889256 [==============================] - 0s 0us/step\n"
          ]
        },
        {
          "output_type": "stream",
          "name": "stderr",
          "text": [
            "WARNING:tensorflow:`input_shape` is undefined or non-square, or `rows` is not in [96, 128, 160, 192, 224]. Weights for input shape (224, 224) will be loaded as the default.\n"
          ]
        },
        {
          "output_type": "stream",
          "name": "stdout",
          "text": [
            "Downloading data from https://storage.googleapis.com/tensorflow/keras-applications/mobilenet_v2/mobilenet_v2_weights_tf_dim_ordering_tf_kernels_1.0_224_no_top.h5\n",
            "9406464/9406464 [==============================] - 0s 0us/step\n",
            "Downloading data from https://storage.googleapis.com/tensorflow/keras-applications/vgg19/vgg19_weights_tf_dim_ordering_tf_kernels_notop.h5\n",
            "80134624/80134624 [==============================] - 1s 0us/step\n"
          ]
        }
      ],
      "source": [
        "# Load pre-trained models\n",
        "base_models = [VGG16, MobileNetV2, VGG19]\n",
        "pre_models = []\n",
        "\n",
        "for base_model in base_models:\n",
        "    base = base_model(weights='imagenet', include_top=False, input_shape=(img_height, img_width, color))\n",
        "    pre_models.append(base)\n",
        "\n",
        "\n",
        "for pretrained_model in pre_models:\n",
        "    for layer in pretrained_model.layers:\n",
        "        layer.trainable = False"
      ]
    },
    {
      "cell_type": "markdown",
      "metadata": {
        "id": "Ay8BhXD74w2-"
      },
      "source": [
        "###layers modification"
      ]
    },
    {
      "cell_type": "code",
      "execution_count": 11,
      "metadata": {
        "id": "agR8v63rDZcI"
      },
      "outputs": [],
      "source": [
        "models = []\n",
        "for pretrained_model in pre_models:\n",
        "    last_layer = Flatten()(pretrained_model.output)\n",
        "    final_layer = Dense(9, activation='softmax')(last_layer)\n",
        "\n",
        "    model = Model(inputs=pretrained_model.input, outputs=final_layer)\n",
        "    models.append(model)"
      ]
    },
    {
      "cell_type": "markdown",
      "metadata": {
        "id": "4xJ5zN-24sZB"
      },
      "source": [
        "###Metrics"
      ]
    },
    {
      "cell_type": "code",
      "execution_count": 12,
      "metadata": {
        "id": "k9ouGFRtEjy3"
      },
      "outputs": [],
      "source": [
        "me = [\n",
        "      TruePositives(name='tp'),\n",
        "      FalsePositives(name='fp'),\n",
        "      TrueNegatives(name='tn'),\n",
        "      FalseNegatives(name='fn'),\n",
        "      BinaryAccuracy(name='accuracy'),\n",
        "      Precision(name='precision'),\n",
        "      Recall(name='recall'),\n",
        "      AUC(name='auc')\n",
        "]"
      ]
    },
    {
      "cell_type": "markdown",
      "metadata": {
        "id": "JluE0jg_42KQ"
      },
      "source": [
        "###Compiling"
      ]
    },
    {
      "cell_type": "code",
      "execution_count": 13,
      "metadata": {
        "id": "AQXjf67CDZoU"
      },
      "outputs": [],
      "source": [
        "for model in models:\n",
        "  model.compile(optimizer='adam',loss='categorical_crossentropy',metrics=me)"
      ]
    },
    {
      "cell_type": "code",
      "execution_count": 14,
      "metadata": {
        "id": "XyEgeYzyK0r5"
      },
      "outputs": [],
      "source": [
        "call_1 = tf.keras.callbacks.EarlyStopping(monitor='loss', patience=30, restore_best_weights=True)\n",
        "callbacks = [call_1]"
      ]
    },
    {
      "cell_type": "markdown",
      "metadata": {
        "id": "Y5dbbF57489M"
      },
      "source": [
        "##Training"
      ]
    },
    {
      "cell_type": "code",
      "execution_count": null,
      "metadata": {
        "colab": {
          "base_uri": "https://localhost:8080/"
        },
        "id": "QIFbkC1oEx5e",
        "outputId": "497e56f9-8fd4-41a6-8752-7ab1dcb8c82e"
      },
      "outputs": [
        {
          "output_type": "stream",
          "name": "stdout",
          "text": [
            "Epoch 1/5\n",
            "24/24 [==============================] - 3412s 141s/step - loss: 7.0478 - tp: 239.0000 - fp: 928.0000 - tn: 11040.0000 - fn: 1257.0000 - accuracy: 0.8377 - precision: 0.2048 - recall: 0.1598 - auc: 0.5735\n",
            "Epoch 2/5\n",
            "24/24 [==============================] - 3427s 142s/step - loss: 1.6495 - tp: 551.0000 - fp: 403.0000 - tn: 11565.0000 - fn: 945.0000 - accuracy: 0.8999 - precision: 0.5776 - recall: 0.3683 - auc: 0.8404\n",
            "Epoch 3/5\n",
            " 1/24 [>.............................] - ETA: 1:04:38 - loss: 1.1103 - tp: 29.0000 - fp: 8.0000 - tn: 504.0000 - fn: 35.0000 - accuracy: 0.9253 - precision: 0.7838 - recall: 0.4531 - auc: 0.9196"
          ]
        }
      ],
      "source": [
        "epochs=5\n",
        "history = models[0].fit(training_dataset, epochs=epochs, callbacks = callbacks, batch_size = batch_size\n",
        ")"
      ]
    },
    {
      "cell_type": "code",
      "execution_count": null,
      "metadata": {
        "id": "CLJZIwIjE_2o"
      },
      "outputs": [],
      "source": [
        "epochs=3\n",
        "history = models[1].fit(training_dataset, epochs=epochs, callbacks = callbacks, batch_size = batch_size\n",
        ")"
      ]
    },
    {
      "cell_type": "code",
      "execution_count": null,
      "metadata": {
        "colab": {
          "background_save": true,
          "base_uri": "https://localhost:8080/"
        },
        "id": "fNoJNteQLyM9",
        "outputId": "a8c646d5-2d1f-4270-c15e-ab6c679805a7"
      },
      "outputs": [
        {
          "name": "stdout",
          "output_type": "stream",
          "text": [
            "Epoch 1/3\n",
            "24/24 [==============================] - 4839s 201s/step - loss: 11.8589 - tp: 1433.0000 - fp: 1345.0000 - tn: 22591.0000 - fn: 1559.0000 - accuracy: 0.8922 - precision: 0.5158 - recall: 0.4789 - auc: 0.7623\n",
            "Epoch 2/3\n",
            "24/24 [==============================] - 4859s 201s/step - loss: 2.7576 - tp: 490.0000 - fp: 531.0000 - tn: 11437.0000 - fn: 1006.0000 - accuracy: 0.8858 - precision: 0.4799 - recall: 0.3275 - auc: 0.7699\n",
            "Epoch 3/3\n",
            "24/24 [==============================] - 4785s 198s/step - loss: 1.2485 - tp: 665.0000 - fp: 308.0000 - tn: 11660.0000 - fn: 831.0000 - accuracy: 0.9154 - precision: 0.6835 - recall: 0.4445 - auc: 0.9025\n"
          ]
        }
      ],
      "source": [
        "epochs=3\n",
        "history = models[2].fit(training_dataset, epochs=epochs, callbacks = callbacks, batch_size = batch_size\n",
        ")"
      ]
    }
  ],
  "metadata": {
    "colab": {
      "provenance": [],
      "include_colab_link": true
    },
    "kernelspec": {
      "display_name": "Python 3",
      "name": "python3"
    },
    "language_info": {
      "name": "python"
    }
  },
  "nbformat": 4,
  "nbformat_minor": 0
}